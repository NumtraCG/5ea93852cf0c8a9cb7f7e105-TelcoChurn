{
 "cells": [
  {
   "cell_type": "markdown",
   "metadata": {},
   "source": [
    "***GENERATED CODE FOR TelcoChurn PIPELINE***"
   ]
  },
  {
   "cell_type": "markdown",
   "metadata": {},
   "source": [
    "**CONNECTOR FUNCTIONS TO READ DATA FROM DATABRICKS FILESYSTEM**"
   ]
  },
  {
   "cell_type": "code",
   "execution_count": null,
   "metadata": {},
   "outputs": [],
   "source": [
    "import datetime\n",
    "import logging\n",
    "import warnings\n",
    "warnings.filterwarnings('ignore')\n",
    "logging.basicConfig(format='%(levelname)s:%(message)s', level=logging.INFO)\n",
    "\n",
    "\n",
    "class DBFSConnector:\n",
    "\n",
    "    def fetch(inStages, inStagesData, stageId, spark, config):\n",
    "        df = spark.read.\\\n",
    "            options(header='true' if eval(config)[\"is_header\"] == \"Use Header Line\" else 'false',\n",
    "                    inferschema='true',\n",
    "                    delimiter=eval(config)[\"delimiter\"])\\\n",
    "            .csv(eval(config)['url'])\n",
    "        display(df.limit(2).toPandas())\n",
    "        return df\n",
    "\n",
    "    def put(inStages, inStagesData, stageId, spark, config):\n",
    "        return inStagesData.write.format('csv').options(header='true' if eval(config)[\"is_header\"] == \"Use Header Line\" else 'false',\n",
    "                                                        delimiter=eval(config)[\"delimiter\"]).save((\"%s %s\") % (datetime.datetime.now().strftime(\"%Y-%m-%d %H.%M.%S\")+\"_\", eval(config)['url']))\n"
   ]
  },
  {
   "cell_type": "markdown",
   "metadata": {},
   "source": [
    "**TRANSFORMATIONS FUNCTIONS THAT WILL BE APPLIED ON DATA**"
   ]
  },
  {
   "cell_type": "code",
   "execution_count": null,
   "metadata": {},
   "outputs": [],
   "source": [
    "import json\n",
    "from pyspark.sql.functions import col, when\n",
    "from pyspark.sql.types import DoubleType, IntegerType, StringType\n",
    "from pyspark.sql.functions import mean, stddev, min, max, col\n",
    "\n",
    "\n",
    "class CleanseData:\n",
    "    # def __init__(self,df):\n",
    "    #     #print()\n",
    "\n",
    "    def replaceByMean(self, feature, df, mean_=-1):\n",
    "\n",
    "        meanValue = df.select(mean(col(feature.name)).alias(\n",
    "            'mean')).collect()[0][\"mean\"]\n",
    "        df.fillna(meanValue, subset=[feature.name])\n",
    "        df.withColumn(feature.name, when(col(feature.name) == \" \",\n",
    "                                         meanValue).otherwise(col(feature.name).cast(\"Integer\")))\n",
    "        return df\n",
    "\n",
    "    def replaceByMax(self, feature, df, max_=-1):\n",
    "        maxValue = df.select(max(col(feature.name)).alias('max')).collect()[\n",
    "            0][\"max\"]\n",
    "        df.fillna(maxValue, subset=[feature.name])\n",
    "        df = df.withColumn(feature.name,\n",
    "                           when(col(feature.name) == \" \", maxValue).otherwise(col(feature.name)))\n",
    "        return df\n",
    "\n",
    "    def replaceByMin(self, feature, df, min_=-1):\n",
    "        minValue = df.select(min(col(feature.name)).alias('min')).collect()[\n",
    "            0][\"min\"]\n",
    "        df.fillna(minValue, subset=[feature.name])\n",
    "        df = df.withColumn(feature.name,\n",
    "                           when(col(feature.name) == \" \", minValue).otherwise(col(feature.name)))\n",
    "        return df\n",
    "\n",
    "    def replaceByStandardDeviation(self, feature, df, stddev_=-1):\n",
    "        stddevValue = df.select(stddev(col(feature.name)).alias(\n",
    "            'stddev')).collect()[0][\"stddev\"]\n",
    "        df.fillna(stddevValue, subset=[feature.name])\n",
    "        df = df.withColumn(feature.name,\n",
    "                           when(col(feature.name) == \" \", stddevValue).otherwise(col(feature.name)))\n",
    "        return df\n",
    "\n",
    "    def replaceDateRandomly(self, feature, df):\n",
    "        fillValue = df.where(col(feature.name).isNotNull()\n",
    "                             ).head(1)[0][feature.name]\n",
    "        df.fillna(str(fillValue), subset=[feature.name])\n",
    "        df = df.withColumn(feature.name,\n",
    "                           when(col(feature.name) == \" \", fillValue).otherwise(col(feature.name)))\n",
    "        # print(\"CleanseData:replaceDateRandomly Schema : \", df.#printSchema())\n",
    "        return df\n",
    "\n",
    "    def replaceNullValues(self, fList, df):\n",
    "        featuresList = df.schema.fields\n",
    "        for featureObj in fList:\n",
    "            for feat in featuresList:\n",
    "                if featureObj[\"feature\"] in feat.name:\n",
    "                    featureName = feat\n",
    "                    if \"mean\" in featureObj[\"replaceby\"]:\n",
    "                        df = self.replaceByMean(featureName, df)\n",
    "                    elif \"max\" in featureObj[\"replaceby\"]:\n",
    "                        df = self.replaceByMax(featureName, df)\n",
    "                    elif \"min\" in featureObj[\"replaceby\"]:\n",
    "                        df = self.replaceByMin(featureName, df)\n",
    "                    elif \"stddev\" in featureObj[\"replaceby\"]:\n",
    "                        df = self.replaceByStandardDeviation(featureName, df)\n",
    "                    elif \"random\" in featureObj[\"replaceby\"]:\n",
    "                        df = self.replaceDateRandomly(featureName, df)\n",
    "        return df\n",
    "\n",
    "    def getTypedValue(self, type, value):\n",
    "        if isinstance(type, StringType):\n",
    "            return value\n",
    "        elif isinstance(type, DoubleType):\n",
    "            if isinstance(value, str):\n",
    "                if value == '0.0':\n",
    "                    return 0.0\n",
    "                else:\n",
    "                    return float(value)\n",
    "            return value\n",
    "        elif isinstance(type, IntegerType):\n",
    "            if isinstance(value, str):\n",
    "                if value == '0.0':\n",
    "                    return 0.0\n",
    "                elif \".\" in value:\n",
    "                    return int(float(value))\n",
    "                elif value.isalpha():\n",
    "                    return value\n",
    "                else:\n",
    "                    return int(value)\n",
    "            return value\n",
    "        return value\n",
    "\n",
    "\n",
    "Feature_Transformations_Methods = {\n",
    "\n",
    "}\n",
    "\n",
    "\n",
    "class TransformationMain:\n",
    "    # TODO: change df argument in run with following\n",
    "    def run(inStages, inStagesData, stageId, spark, config):\n",
    "        configObj = json.loads(config)\n",
    "        featureData = configObj[\"FE\"]\n",
    "        transformationDF = inStagesData[inStages[0]]\n",
    "        transformationDF = CleanseData().replaceNullValues(featureData, transformationDF)\n",
    "        for transformation in featureData:\n",
    "            feature = transformation[\"feature\"]\n",
    "            if transformation[\"transformation\"] != '' and transformation[\"selected\"].lower() == \"true\" and not (feature.__contains__(\"_transform\")):\n",
    "                transformationDF = Feature_Transformations_Methods[\"%s\" % transformation[\"transformation\"]](\n",
    "                    transformationDF, transformation)\n",
    "\n",
    "        display(transformationDF.limit(2).toPandas())\n",
    "        return transformationDF\n"
   ]
  },
  {
   "cell_type": "markdown",
   "metadata": {},
   "source": [
    "**AUTOML FUNCTIONS**"
   ]
  },
  {
   "cell_type": "code",
   "execution_count": null,
   "metadata": {},
   "outputs": [],
   "source": [
    "from tpot import TPOTClassifier\n",
    "from sklearn.model_selection import train_test_split\n",
    "import pyspark\n",
    "\n",
    "\n",
    "def functionClassification(sparkDF, listOfFeatures, label):\n",
    "    sparkDF.persist(pyspark.StorageLevel.MEMORY_AND_DISK)\n",
    "    df = sparkDF.toPandas()\n",
    "    df.columns.intersection(listOfFeatures)\n",
    "    X = df.drop(label, axis=1).values\n",
    "    y = df[label].values\n",
    "    X_train, X_test, y_train, y_test = train_test_split(\n",
    "        X, y, random_state=1, test_size=0.1)\n",
    "    tpotModel = TPOTClassifier(verbosity=3, n_jobs=-1, generations=10, max_time_mins=15,\n",
    "                               population_size=15)\n",
    "    tpotModel.fit(X_train, y_train)\n",
    "    display(\" Accuracy of Model : %s\" % tpotModel.score(X_test, y_test))\n"
   ]
  },
  {
   "cell_type": "markdown",
   "metadata": {},
   "source": [
    "**READING DATAFRAME**"
   ]
  },
  {
   "cell_type": "code",
   "execution_count": null,
   "metadata": {},
   "outputs": [],
   "source": [
    "from pyspark.sql import SparkSession\n",
    "spark = SparkSession.builder.getOrCreate()\n",
    "\n",
    "try: \n",
    "\tTelcoChurn_DBFS = DBFSConnector.fetch([], {}, \"5ea93852cf0c8a9cb7f7e106\", spark, \"{'url': '/Demo/TelcoCustomerChurn.csv', 'file_type': 'Delimeted', 'delimiter': ',', 'is_header': 'Use Header Line'}\")\n",
    "\n",
    "except Exception as ex: \n",
    "\tlogging.error(ex)\n"
   ]
  },
  {
   "cell_type": "markdown",
   "metadata": {},
   "source": [
    "**TRANSFORMING DATAFRAME**"
   ]
  },
  {
   "cell_type": "code",
   "execution_count": null,
   "metadata": {},
   "outputs": [],
   "source": [
    "try: \n",
    "\tTelcoChurn_AutoFE = TransformationMain.run([\"5ea93852cf0c8a9cb7f7e106\"],{\"5ea93852cf0c8a9cb7f7e106\": TelcoChurn_DBFS}, \"5ea93852cf0c8a9cb7f7e107\", spark,json.dumps( {\"FE\": [{\"transformationsData\": {\"feature_label\": \"customerID\"}, \"feature\": \"customerID\", \"type\": \"string\", \"selected\": \"True\", \"replaceby\": \"max\", \"stats\": {\"count\": \"4465\", \"mean\": \"\", \"stddev\": \"\", \"min\": \"0002-ORFBO\", \"max\": \"9993-LHIEB\", \"missing\": \"0\"}, \"transformation\": \"String Indexer\"}, {\"transformationsData\": {\"feature_label\": \"gender\"}, \"feature\": \"gender\", \"type\": \"string\", \"selected\": \"True\", \"replaceby\": \"max\", \"stats\": {\"count\": \"4465\", \"mean\": \"\", \"stddev\": \"\", \"min\": \"Female\", \"max\": \"Male\", \"missing\": \"0\"}, \"transformation\": \"String Indexer\"}, {\"transformationsData\": {}, \"feature\": \"SeniorCitizen\", \"transformation\": \"\", \"type\": \"numeric\", \"replaceby\": \"mean\", \"selected\": \"True\", \"stats\": {\"count\": \"4465\", \"mean\": \"0.16\", \"stddev\": \"0.37\", \"min\": \"0\", \"max\": \"1\", \"missing\": \"0\"}}, {\"transformationsData\": {\"feature_label\": \"Partner\"}, \"feature\": \"Partner\", \"type\": \"string\", \"selected\": \"True\", \"replaceby\": \"max\", \"stats\": {\"count\": \"4465\", \"mean\": \"\", \"stddev\": \"\", \"min\": \"No\", \"max\": \"Yes\", \"missing\": \"0\"}, \"transformation\": \"String Indexer\"}, {\"transformationsData\": {\"feature_label\": \"Dependents\"}, \"feature\": \"Dependents\", \"type\": \"string\", \"selected\": \"True\", \"replaceby\": \"max\", \"stats\": {\"count\": \"4465\", \"mean\": \"\", \"stddev\": \"\", \"min\": \"No\", \"max\": \"Yes\", \"missing\": \"0\"}, \"transformation\": \"String Indexer\"}, {\"transformationsData\": {}, \"feature\": \"tenure\", \"transformation\": \"\", \"type\": \"numeric\", \"replaceby\": \"mean\", \"selected\": \"True\", \"stats\": {\"count\": \"4465\", \"mean\": \"32.27\", \"stddev\": \"24.59\", \"min\": \"0\", \"max\": \"72\", \"missing\": \"0\"}}, {\"transformationsData\": {\"feature_label\": \"PhoneService\"}, \"feature\": \"PhoneService\", \"type\": \"string\", \"selected\": \"True\", \"replaceby\": \"max\", \"stats\": {\"count\": \"4465\", \"mean\": \"\", \"stddev\": \"\", \"min\": \"No\", \"max\": \"Yes\", \"missing\": \"0\"}, \"transformation\": \"String Indexer\"}, {\"transformationsData\": {\"feature_label\": \"MultipleLines\"}, \"feature\": \"MultipleLines\", \"type\": \"string\", \"selected\": \"True\", \"replaceby\": \"max\", \"stats\": {\"count\": \"4465\", \"mean\": \"\", \"stddev\": \"\", \"min\": \"No\", \"max\": \"Yes\", \"missing\": \"0\"}, \"transformation\": \"String Indexer\"}, {\"transformationsData\": {\"feature_label\": \"InternetService\"}, \"feature\": \"InternetService\", \"type\": \"string\", \"selected\": \"True\", \"replaceby\": \"max\", \"stats\": {\"count\": \"4465\", \"mean\": \"\", \"stddev\": \"\", \"min\": \"DSL\", \"max\": \"No\", \"missing\": \"0\"}, \"transformation\": \"String Indexer\"}, {\"transformationsData\": {\"feature_label\": \"OnlineSecurity\"}, \"feature\": \"OnlineSecurity\", \"type\": \"string\", \"selected\": \"True\", \"replaceby\": \"max\", \"stats\": {\"count\": \"4465\", \"mean\": \"\", \"stddev\": \"\", \"min\": \"No\", \"max\": \"Yes\", \"missing\": \"0\"}, \"transformation\": \"String Indexer\"}, {\"transformationsData\": {\"feature_label\": \"OnlineBackup\"}, \"feature\": \"OnlineBackup\", \"type\": \"string\", \"selected\": \"True\", \"replaceby\": \"max\", \"stats\": {\"count\": \"4465\", \"mean\": \"\", \"stddev\": \"\", \"min\": \"No\", \"max\": \"Yes\", \"missing\": \"0\"}, \"transformation\": \"String Indexer\"}, {\"transformationsData\": {\"feature_label\": \"DeviceProtection\"}, \"feature\": \"DeviceProtection\", \"type\": \"string\", \"selected\": \"True\", \"replaceby\": \"max\", \"stats\": {\"count\": \"4465\", \"mean\": \"\", \"stddev\": \"\", \"min\": \"No\", \"max\": \"Yes\", \"missing\": \"0\"}, \"transformation\": \"String Indexer\"}, {\"transformationsData\": {\"feature_label\": \"TechSupport\"}, \"feature\": \"TechSupport\", \"type\": \"string\", \"selected\": \"True\", \"replaceby\": \"max\", \"stats\": {\"count\": \"4465\", \"mean\": \"\", \"stddev\": \"\", \"min\": \"No\", \"max\": \"Yes\", \"missing\": \"0\"}, \"transformation\": \"String Indexer\"}, {\"transformationsData\": {\"feature_label\": \"StreamingTV\"}, \"feature\": \"StreamingTV\", \"type\": \"string\", \"selected\": \"True\", \"replaceby\": \"max\", \"stats\": {\"count\": \"4465\", \"mean\": \"\", \"stddev\": \"\", \"min\": \"No\", \"max\": \"Yes\", \"missing\": \"0\"}, \"transformation\": \"String Indexer\"}, {\"transformationsData\": {\"feature_label\": \"StreamingMovies\"}, \"feature\": \"StreamingMovies\", \"type\": \"string\", \"selected\": \"True\", \"replaceby\": \"max\", \"stats\": {\"count\": \"4465\", \"mean\": \"\", \"stddev\": \"\", \"min\": \"No\", \"max\": \"Yes\", \"missing\": \"0\"}, \"transformation\": \"String Indexer\"}, {\"transformationsData\": {\"feature_label\": \"Contract\"}, \"feature\": \"Contract\", \"type\": \"string\", \"selected\": \"True\", \"replaceby\": \"max\", \"stats\": {\"count\": \"4465\", \"mean\": \"\", \"stddev\": \"\", \"min\": \"Month-to-month\", \"max\": \"Two year\", \"missing\": \"0\"}, \"transformation\": \"String Indexer\"}, {\"transformationsData\": {\"feature_label\": \"PaperlessBilling\"}, \"feature\": \"PaperlessBilling\", \"type\": \"string\", \"selected\": \"True\", \"replaceby\": \"max\", \"stats\": {\"count\": \"4465\", \"mean\": \"\", \"stddev\": \"\", \"min\": \"No\", \"max\": \"Yes\", \"missing\": \"0\"}, \"transformation\": \"String Indexer\"}, {\"transformationsData\": {\"feature_label\": \"PaymentMethod\"}, \"feature\": \"PaymentMethod\", \"type\": \"string\", \"selected\": \"True\", \"replaceby\": \"max\", \"stats\": {\"count\": \"4465\", \"mean\": \"\", \"stddev\": \"\", \"min\": \"Bank transfer (automatic)\", \"max\": \"Mailed check\", \"missing\": \"0\"}, \"transformation\": \"String Indexer\"}, {\"transformationsData\": {}, \"feature\": \"MonthlyCharges\", \"type\": \"real\", \"selected\": \"True\", \"replaceby\": \"mean\", \"stats\": {\"count\": \"4465\", \"mean\": \"64.51\", \"stddev\": \"30.15\", \"min\": \"18.25\", \"max\": \"118.75\", \"missing\": \"0\"}, \"transformation\": \"\"}, {\"transformationsData\": {\"feature_label\": \"TotalCharges\"}, \"feature\": \"TotalCharges\", \"type\": \"string\", \"selected\": \"True\", \"replaceby\": \"max\", \"stats\": {\"count\": \"4465\", \"mean\": \"2273.0\", \"stddev\": \"2268.25\", \"min\": \"100.2\", \"max\": \"999.45\", \"missing\": \"0\"}, \"transformation\": \"String Indexer\"}, {\"transformationsData\": {\"feature_label\": \"Churn\"}, \"feature\": \"Churn\", \"type\": \"string\", \"selected\": \"True\", \"replaceby\": \"max\", \"stats\": {\"count\": \"4465\", \"mean\": \"\", \"stddev\": \"\", \"min\": \"No\", \"max\": \"Yes\", \"missing\": \"0\"}, \"transformation\": \"String Indexer\"}, {\"feature\": \"customerID_transform\", \"transformation\": \"\", \"transformationsData\": {}, \"type\": \"real\", \"selected\": \"True\", \"stats\": {\"count\": \"4465\", \"mean\": \"2232.0\", \"stddev\": \"1289.08\", \"min\": \"0.0\", \"max\": \"4464.0\", \"missing\": \"0\"}}, {\"feature\": \"gender_transform\", \"transformation\": \"\", \"transformationsData\": {}, \"type\": \"numeric\", \"selected\": \"True\", \"stats\": {\"count\": \"4465\", \"mean\": \"0.49\", \"stddev\": \"0.5\", \"min\": \"0\", \"max\": \"1\", \"missing\": \"0\"}}, {\"feature\": \"Partner_transform\", \"transformation\": \"\", \"transformationsData\": {}, \"type\": \"numeric\", \"selected\": \"True\", \"stats\": {\"count\": \"4465\", \"mean\": \"0.48\", \"stddev\": \"0.5\", \"min\": \"0\", \"max\": \"1\", \"missing\": \"0\"}}, {\"feature\": \"Dependents_transform\", \"transformation\": \"\", \"transformationsData\": {}, \"type\": \"numeric\", \"selected\": \"True\", \"stats\": {\"count\": \"4465\", \"mean\": \"0.3\", \"stddev\": \"0.46\", \"min\": \"0\", \"max\": \"1\", \"missing\": \"0\"}}, {\"feature\": \"PhoneService_transform\", \"transformation\": \"\", \"transformationsData\": {}, \"type\": \"numeric\", \"selected\": \"True\", \"stats\": {\"count\": \"4465\", \"mean\": \"0.1\", \"stddev\": \"0.3\", \"min\": \"0\", \"max\": \"1\", \"missing\": \"0\"}}, {\"feature\": \"MultipleLines_transform\", \"transformation\": \"\", \"transformationsData\": {}, \"type\": \"numeric\", \"selected\": \"True\", \"stats\": {\"count\": \"4465\", \"mean\": \"0.62\", \"stddev\": \"0.66\", \"min\": \"0\", \"max\": \"2\", \"missing\": \"0\"}}, {\"feature\": \"InternetService_transform\", \"transformation\": \"\", \"transformationsData\": {}, \"type\": \"numeric\", \"selected\": \"True\", \"stats\": {\"count\": \"4465\", \"mean\": \"0.78\", \"stddev\": \"0.78\", \"min\": \"0\", \"max\": \"2\", \"missing\": \"0\"}}, {\"feature\": \"OnlineSecurity_transform\", \"transformation\": \"\", \"transformationsData\": {}, \"type\": \"numeric\", \"selected\": \"True\", \"stats\": {\"count\": \"4465\", \"mean\": \"0.72\", \"stddev\": \"0.8\", \"min\": \"0\", \"max\": \"2\", \"missing\": \"0\"}}, {\"feature\": \"OnlineBackup_transform\", \"transformation\": \"\", \"transformationsData\": {}, \"type\": \"numeric\", \"selected\": \"True\", \"stats\": {\"count\": \"4465\", \"mean\": \"0.78\", \"stddev\": \"0.78\", \"min\": \"0\", \"max\": \"2\", \"missing\": \"0\"}}, {\"feature\": \"DeviceProtection_transform\", \"transformation\": \"\", \"transformationsData\": {}, \"type\": \"numeric\", \"selected\": \"True\", \"stats\": {\"count\": \"4465\", \"mean\": \"0.78\", \"stddev\": \"0.78\", \"min\": \"0\", \"max\": \"2\", \"missing\": \"0\"}}, {\"feature\": \"TechSupport_transform\", \"transformation\": \"\", \"transformationsData\": {}, \"type\": \"numeric\", \"selected\": \"True\", \"stats\": {\"count\": \"4465\", \"mean\": \"0.73\", \"stddev\": \"0.8\", \"min\": \"0\", \"max\": \"2\", \"missing\": \"0\"}}, {\"feature\": \"StreamingTV_transform\", \"transformation\": \"\", \"transformationsData\": {}, \"type\": \"numeric\", \"selected\": \"True\", \"stats\": {\"count\": \"4465\", \"mean\": \"0.83\", \"stddev\": \"0.76\", \"min\": \"0\", \"max\": \"2\", \"missing\": \"0\"}}, {\"feature\": \"StreamingMovies_transform\", \"transformation\": \"\", \"transformationsData\": {}, \"type\": \"numeric\", \"selected\": \"True\", \"stats\": {\"count\": \"4465\", \"mean\": \"0.82\", \"stddev\": \"0.76\", \"min\": \"0\", \"max\": \"2\", \"missing\": \"0\"}}, {\"feature\": \"Contract_transform\", \"transformation\": \"\", \"transformationsData\": {}, \"type\": \"numeric\", \"selected\": \"True\", \"stats\": {\"count\": \"4465\", \"mean\": \"0.66\", \"stddev\": \"0.8\", \"min\": \"0\", \"max\": \"2\", \"missing\": \"0\"}}, {\"feature\": \"PaperlessBilling_transform\", \"transformation\": \"\", \"transformationsData\": {}, \"type\": \"numeric\", \"selected\": \"True\", \"stats\": {\"count\": \"4465\", \"mean\": \"0.41\", \"stddev\": \"0.49\", \"min\": \"0\", \"max\": \"1\", \"missing\": \"0\"}}, {\"feature\": \"PaymentMethod_transform\", \"transformation\": \"\", \"transformationsData\": {}, \"type\": \"numeric\", \"selected\": \"True\", \"stats\": {\"count\": \"4465\", \"mean\": \"1.3\", \"stddev\": \"1.15\", \"min\": \"0\", \"max\": \"3\", \"missing\": \"0\"}}, {\"feature\": \"TotalCharges_transform\", \"transformation\": \"\", \"transformationsData\": {}, \"type\": \"real\", \"selected\": \"True\", \"stats\": {\"count\": \"4465\", \"mean\": \"2003.91\", \"stddev\": \"1273.38\", \"min\": \"0.0\", \"max\": \"4226.0\", \"missing\": \"0\"}}, {\"feature\": \"Churn_transform\", \"transformation\": \"\", \"transformationsData\": {}, \"type\": \"numeric\", \"selected\": \"True\", \"stats\": {\"count\": \"4465\", \"mean\": \"0.26\", \"stddev\": \"0.44\", \"min\": \"0\", \"max\": \"1\", \"missing\": \"0\"}}]}))\n",
    "\n",
    "except Exception as ex: \n",
    "\tlogging.error(ex)\n"
   ]
  },
  {
   "cell_type": "markdown",
   "metadata": {},
   "source": [
    "**TRAIN MODEL**"
   ]
  },
  {
   "cell_type": "code",
   "execution_count": null,
   "metadata": {},
   "outputs": [],
   "source": [
    "try: \n",
    "\tfunctionClassification(TelcoChurn_AutoFE, [\"customerID\", \"gender\", \"SeniorCitizen\", \"Partner\", \"Dependents\", \"tenure\", \"PhoneService\", \"MultipleLines\", \"InternetService\", \"OnlineSecurity\", \"OnlineBackup\", \"DeviceProtection\", \"TechSupport\", \"StreamingTV\", \"StreamingMovies\", \"Contract\", \"PaperlessBilling\", \"PaymentMethod\", \"MonthlyCharges\", \"TotalCharges\"], \"Churn\")\n",
    "\n",
    "except Exception as ex: \n",
    "\tlogging.error(ex)\n"
   ]
  }
 ],
 "metadata": {},
 "nbformat": 4,
 "nbformat_minor": 4
}
